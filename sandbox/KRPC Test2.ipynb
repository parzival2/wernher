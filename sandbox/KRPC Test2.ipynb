{
 "cells": [
  {
   "cell_type": "code",
   "execution_count": 4,
   "metadata": {
    "collapsed": false
   },
   "outputs": [],
   "source": [
    "%run -i '../Common.ipynb'\n",
    "import krpc"
   ]
  },
  {
   "cell_type": "code",
   "execution_count": 5,
   "metadata": {
    "collapsed": false
   },
   "outputs": [],
   "source": [
    "conn = krpc.connect(name='laptop2', address='192.168.1.2')\n",
    "\n",
    "ksc = conn.space_center\n",
    "vessel = ksc.active_vessel\n",
    "obt = vessel.orbit\n",
    "ap = vessel.auto_pilot\n",
    "con = vessel.control"
   ]
  },
  {
   "cell_type": "code",
   "execution_count": 27,
   "metadata": {
    "collapsed": false
   },
   "outputs": [
    {
     "name": "stdout",
     "output_type": "stream",
     "text": [
      "R8winglet\n",
      "    (0.9752424109102769, 0.6966314543805067, 0.11266144818241366)\n",
      "    (-0.2254250208276105, 0.968436890965344, -0.1063651034220236)\n",
      "    (0.25771580607272915, -0.7184982480622373, -0.3525488889668191, -0.5413428856211167)\n",
      "R8winglet\n",
      "    (-0.9749975012621168, 0.6966387576191593, 0.11266119615164502)\n",
      "    (0.22543030614646375, 0.9684370137988104, -0.10635471814662928)\n",
      "    (-0.408982289059854, 0.2988515789293464, -0.15216789167647693, -0.8486849990933978)\n",
      "R8winglet\n",
      "    (-4.141693843059577, -4.041600546602401, -0.6506278434170094)\n",
      "    (-0.0016266915925681642, 0.999996314261699, 0.0021530903157734316)\n",
      "    (0.45048228806278207, -0.8518395818412395, -0.15626357289122222, 0.21683361115753141)\n",
      "elevon3\n",
      "    (-1.4805175677897886, -3.9437237499323277, 0.18602895244510553)\n",
      "    (-0.0016159697492387666, 0.9999965843942402, 0.0021494817017777557)\n",
      "    (0.4289893370305759, -0.4488881556766335, 0.20811347689964654, 0.755748978901402)\n",
      "elevon2\n",
      "    (-3.2949551884840593, -3.9463147439470516, 0.03021437370988833)\n",
      "    (-0.0016146124709196072, 0.9999964339035705, 0.0021543669561374656)\n",
      "    (0.42899031376918495, -0.44888276933761423, 0.20811414319463345, 0.7557513237437934)\n",
      "R8winglet\n",
      "    (4.141187051361435, -4.04192532044547, -0.6545511761881959)\n",
      "    (0.0016949663513351806, 0.9999964908705712, 0.002034416905614289)\n",
      "    (0.4620270522653802, -0.8293327947262126, -0.11758627776821251, 0.2913959848850105)\n",
      "elevon3\n",
      "    (1.4808402830938192, -3.9437693203115183, 0.18477861166988108)\n",
      "    (0.0016730268619717607, 0.9999965323688406, 0.002023343891929985)\n",
      "    (0.24348776749286652, -0.7924019559404554, -0.40989173861535144, -0.38052803351636777)\n",
      "elevon2\n",
      "    (3.2951382662440905, -3.946488087242821, 0.027154174800872344)\n",
      "    (0.0016770545553067631, 0.999996472953745, 0.0020344511640486562)\n",
      "    (0.24348738533465464, -0.7924030243847306, -0.4098922987065023, -0.3805255171224551)\n"
     ]
    }
   ],
   "source": [
    "def torque(vessel):\n",
    "    surfs = vessel.parts.with_module('ModuleControlSurface')\n",
    "    pitch,yaw,roll = 0,0,0\n",
    "    for surf in surfs:\n",
    "        modl = [x.fields for x in surf.modules if x.name == 'ModuleControlSurface'][0]\n",
    "        print(surf.name)\n",
    "        p = surf.position(vessel.reference_frame)\n",
    "        d = surf.direction(vessel.reference_frame)\n",
    "        r = surf.rotation(vessel.reference_frame)\n",
    "        print('   ',p)\n",
    "        print('   ',d)\n",
    "        print('   ',r)\n",
    "        if modl['Pitch']:\n",
    "            pass\n",
    "        if modl['Yaw']:\n",
    "            pass\n",
    "        if modl['Roll']:\n",
    "            pass\n",
    "torque(vessel)"
   ]
  },
  {
   "cell_type": "code",
   "execution_count": 28,
   "metadata": {
    "collapsed": false
   },
   "outputs": [],
   "source": [
    "surf = vessel.parts.with_module('ModuleControlSurface')[0]"
   ]
  },
  {
   "cell_type": "code",
   "execution_count": 32,
   "metadata": {
    "collapsed": false
   },
   "outputs": [
    {
     "data": {
      "text/plain": [
       "['__class__',\n",
       " '__delattr__',\n",
       " '__dict__',\n",
       " '__dir__',\n",
       " '__doc__',\n",
       " '__eq__',\n",
       " '__format__',\n",
       " '__ge__',\n",
       " '__getattribute__',\n",
       " '__gt__',\n",
       " '__hash__',\n",
       " '__init__',\n",
       " '__le__',\n",
       " '__lt__',\n",
       " '__module__',\n",
       " '__ne__',\n",
       " '__new__',\n",
       " '__reduce__',\n",
       " '__reduce_ex__',\n",
       " '__repr__',\n",
       " '__setattr__',\n",
       " '__sizeof__',\n",
       " '__str__',\n",
       " '__subclasshook__',\n",
       " '__weakref__',\n",
       " '_add_method',\n",
       " '_add_property',\n",
       " '_add_static_method',\n",
       " '_class_name',\n",
       " '_client',\n",
       " '_object_id',\n",
       " '_service_name',\n",
       " 'actions',\n",
       " 'events',\n",
       " 'fields',\n",
       " 'get_field',\n",
       " 'has_action',\n",
       " 'has_event',\n",
       " 'has_field',\n",
       " 'name',\n",
       " 'part',\n",
       " 'set_action',\n",
       " 'trigger_event']"
      ]
     },
     "execution_count": 32,
     "metadata": {},
     "output_type": "execute_result"
    }
   ],
   "source": [
    "dir(surf.modules[0])"
   ]
  },
  {
   "cell_type": "code",
   "execution_count": 2,
   "metadata": {
    "collapsed": false
   },
   "outputs": [],
   "source": [
    "vrf = vessel.reference_frame\n",
    "srfrf = vessel.surface_reference_frame\n",
    "vobtrf = vessel.orbital_reference_frame\n",
    "obtrf = obt.body.reference_frame\n",
    "obtorf = obt.body.orbital_reference_frame\n",
    "obtnrrf = obt.body.non_rotating_reference_frame\n",
    "\n",
    "flight = lambda rf: vessel.flight(rf)"
   ]
  },
  {
   "cell_type": "code",
   "execution_count": 3,
   "metadata": {
    "collapsed": false
   },
   "outputs": [],
   "source": [
    "compare(ksc)"
   ]
  },
  {
   "cell_type": "code",
   "execution_count": 4,
   "metadata": {
    "collapsed": false
   },
   "outputs": [
    {
     "name": "stdout",
     "output_type": "stream",
     "text": [
      "e   = 0.0866 \n",
      "α   = 741560 \n",
      "i   = 0.1649\n",
      "Ω   = 4.1811 \n",
      "ω   = 3.2452\n",
      "M0  = 1.5912\n",
      "E   = 1.6773 \n",
      "t0  = 803022\n",
      "μ   = 3.532e+12 \n",
      "body_equatorial_radius = 600000\n",
      "body_rotational_speed = 0.0002909\n",
      "\n",
      "n   = 0.0029\n",
      "P   = 2135.0779\n",
      "ϖ   = 7.4263\n",
      "ν   = 1.3785\n",
      "true_longitude = 8.8049\n",
      "ϕ   = 0.0834\n",
      "γ   = 1.4874\n",
      "12.983598941572325 2162.274627170959\n",
      "12.989604285901478 2162.263775277369\n",
      "12.989604285901478 1948.4163507844235\n"
     ]
    }
   ],
   "source": [
    "t = ksc.ut\n",
    "o = KeplerOrbit(obt)\n",
    "print(o)\n",
    "\n",
    "f = flight(obtorf)\n",
    "print(f.longitude, f.speed)\n",
    "\n",
    "f = flight(obtnrrf)\n",
    "print(f.longitude, f.speed)\n",
    "\n",
    "f = flight(obtrf)\n",
    "print(f.longitude, f.speed)"
   ]
  }
 ],
 "metadata": {
  "kernelspec": {
   "display_name": "Python 2",
   "language": "python",
   "name": "python2"
  },
  "language_info": {
   "codemirror_mode": {
    "name": "ipython",
    "version": 2
   },
   "file_extension": ".py",
   "mimetype": "text/x-python",
   "name": "python",
   "nbconvert_exporter": "python",
   "pygments_lexer": "ipython2",
   "version": "2.7.11"
  }
 },
 "nbformat": 4,
 "nbformat_minor": 0
}
