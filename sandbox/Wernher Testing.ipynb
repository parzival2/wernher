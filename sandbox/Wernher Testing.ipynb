{
 "cells": [
  {
   "cell_type": "code",
   "execution_count": 1,
   "metadata": {
    "collapsed": false
   },
   "outputs": [],
   "source": [
    "%run -i '../Common.ipynb'"
   ]
  },
  {
   "cell_type": "code",
   "execution_count": 2,
   "metadata": {
    "collapsed": false
   },
   "outputs": [],
   "source": [
    "import wernher"
   ]
  },
  {
   "cell_type": "code",
   "execution_count": 4,
   "metadata": {
    "collapsed": false
   },
   "outputs": [],
   "source": [
    "π = np.pi\n",
    "deg = π/180\n",
    "km = 1000"
   ]
  },
  {
   "cell_type": "code",
   "execution_count": 19,
   "metadata": {
    "collapsed": false
   },
   "outputs": [
    {
     "data": {
      "image/png": "[encoded data removed]",
      "text/plain": [
       "<matplotlib.figure.Figure at 0x7f336ad2dc50>"
      ]
     },
     "metadata": {},
     "output_type": "display_data"
    }
   ],
   "source": [
    "body = wernher.CelestialBody(\n",
    "    name = 'kerbin',\n",
    "    gravitational_parameter = 3.5316e12,\n",
    "    equatorial_radius = 600*km,\n",
    "    rotational_speed = 2*π/21600)\n",
    "orbit = wernher.Orbit(\n",
    "    t0 = 0,\n",
    "    i  = 30*deg,\n",
    "    Ω  = 0*deg,\n",
    "    ω  = 15*deg,\n",
    "    pe_alt  = 800*km,\n",
    "    ap_alt  = 2300*km,\n",
    "    M0 = -45*deg,\n",
    "    body = body)\n",
    "\n",
    "\n",
    "θθ = np.linspace(0,2*π,300)\n",
    "rr = orbit.radius_at_true_anomaly(θθ)\n",
    "R = orbit.body.equatorial_radius\n",
    "\n",
    "fig,ax = pyplot.subplots()\n",
    "ax.set_aspect('equal')\n",
    "ax.set_axis_off()\n",
    "ax.margins(.01,.03)\n",
    "\n",
    "# planet\n",
    "_=ax.fill_between(-R*np.cos(θθ), R*np.sin(θθ), lw=0)\n",
    "\n",
    "# orbit\n",
    "_=ax.plot(-rr*np.cos(θθ), rr*np.sin(θθ), lw=2)\n",
    "\n",
    "_=ax.annotate(str(orbit.pe/km)+' km',\n",
    "    xy=(-orbit.pe,0,),\n",
    "    xycoords = 'data',\n",
    "    xytext=(10,0),\n",
    "    textcoords = 'offset points',\n",
    "    ha=\"left\", va=\"center\",\n",
    "    bbox=dict(boxstyle=\"round\", color='white', linewidth=0, alpha=0.7),\n",
    "    )\n",
    "_=ax.annotate(str(orbit.ap/km)+' km',\n",
    "    xy=(orbit.ap,0),\n",
    "    xycoords = 'data',\n",
    "    xytext=(-10,0),\n",
    "    textcoords = 'offset points',\n",
    "    ha=\"right\", va=\"center\",\n",
    "    bbox=dict(boxstyle=\"round\", color='white', linewidth=0, alpha=0.7),\n",
    "    )\n"
   ]
  }
 ],
 "metadata": {
  "kernelspec": {
   "display_name": "Python 3",
   "language": "python",
   "name": "python3"
  },
  "language_info": {
   "codemirror_mode": {
    "name": "ipython",
    "version": 3
   },
   "file_extension": ".py",
   "mimetype": "text/x-python",
   "name": "python",
   "nbconvert_exporter": "python",
   "pygments_lexer": "ipython3",
   "version": "3.4.1"
  }
 },
 "nbformat": 4,
 "nbformat_minor": 0
}
