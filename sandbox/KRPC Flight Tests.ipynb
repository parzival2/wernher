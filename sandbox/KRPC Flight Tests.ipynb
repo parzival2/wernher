{
 "cells": [
  {
   "cell_type": "code",
   "execution_count": 1,
   "metadata": {
    "collapsed": true
   },
   "outputs": [],
   "source": [
    "import krpc\n",
    "import numpy as np\n",
    "import time\n",
    "import math"
   ]
  },
  {
   "cell_type": "code",
   "execution_count": 2,
   "metadata": {
    "collapsed": false
   },
   "outputs": [],
   "source": [
    "linkup = krpc.connect('192.168.1.2', name='flight control')"
   ]
  },
  {
   "cell_type": "code",
   "execution_count": 3,
   "metadata": {
    "collapsed": true
   },
   "outputs": [],
   "source": [
    "ksc = linkup.space_center\n",
    "vessel = ksc.active_vessel"
   ]
  },
  {
   "cell_type": "code",
   "execution_count": 4,
   "metadata": {
    "collapsed": false
   },
   "outputs": [],
   "source": [
    "def cross_product(x, y):\n",
    "    return (x[1]*y[2] - x[2]*y[1], x[2]*y[0] - x[0]*y[2], x[0]*y[1] - x[1]*y[0])\n",
    "\n",
    "def dot_product(x, y):\n",
    "    return x[0]*y[0] + x[1]*y[1] + x[2]*y[2]\n",
    "\n",
    "def magnitude(x):\n",
    "    return math.sqrt(x[0]**2 + x[1]**2 + x[2]**2)\n",
    "\n",
    "def vector_proection(vec, norm):\n",
    "    return dot_product(vec,norm)  / magnitude(norm)\n",
    "\n",
    "def vector_projection_on_plane(vec, plane_norm):\n",
    "    pass\n",
    "\n",
    "def angle_between_vectors(x, y):\n",
    "    \"\"\" Compute the angle between vector x and y \"\"\"\n",
    "    dp = dot_product(x, y)\n",
    "    if dp == 0:\n",
    "        return 0\n",
    "    xm = magnitude(x)\n",
    "    ym = magnitude(y)\n",
    "    return math.acos(dp / (xm*ym)) * (180. / math.pi)\n",
    "\n",
    "def angle_between_vector_and_plane(x, n):\n",
    "    \"\"\" Compute the angle between a vector x and plane with normal vector n \"\"\"\n",
    "    dp = dot_product(x,n)\n",
    "    if dp == 0:\n",
    "        return 0\n",
    "    xm = magnitude(x)\n",
    "    nm = magnitude(n)\n",
    "    return math.asin(dp / (xm*nm)) * (180. / math.pi)"
   ]
  },
  {
   "cell_type": "code",
   "execution_count": null,
   "metadata": {
    "collapsed": true
   },
   "outputs": [],
   "source": [
    "def vertical_launch_orientation_initial(ksc, vessel):\n",
    "    '''Orientation for vertical launch of roundish vehicles. Initial launch.\n",
    "        good while the vessel pointed mostly straight up\n",
    "        \n",
    "        pitch: angle between forward and horizon due-starboard\n",
    "        roll: angle between starboard and east\n",
    "    '''\n",
    "    up = (1,0,0)\n",
    "    east = (0,0,1)\n",
    "    \n",
    "    forward = ksc.transform_direction((0,1,0), vessel.reference_frame, vessel.surface_reference_frame)\n",
    "    starboard = ksc.transform_direction((1,0,0), vessel.reference_frame, vessel.surface_reference_frame)\n",
    "    \n",
    "    B = A - (A.dot.N)N\n",
    "    \n",
    "    \n",
    "    \n",
    "    starboard_horizon = tuple(s-u for s,u in zip(starboard,up))\n",
    "    \n",
    "    pitch = angle_between_vectors(forward, starboard_horizon)\n",
    "    roll = angle_between_vectors(starboard, east)\n",
    "    \n",
    "    return pitch, roll\n",
    "\n",
    "def vertical_launch_orientation_low(ksc, vessel):\n",
    "    '''Orientation for vertical launch of roundish vehicles. Low-altitude.\n",
    "        good once vessel has a definite heading\n",
    "        good until vessel is pointed about 45 deg above horizon\n",
    "        \n",
    "        pitch: angle between forward and up\n",
    "        roll: angle between starboard and east\n",
    "        heading: \n",
    "    '''\n",
    "    east = (0,0,1)\n",
    "    \n",
    "    flight = vessel.flight(vessel.surface_reference_frame)\n",
    "    starboard = ksc.transform_direction((1,0,0), vessel.reference_frame, vessel.surface_reference_frame)\n",
    "    roll = angle_between_vectors(starboard, east)\n",
    "    \n",
    "    return flight.pitch, flight.heading, roll\n",
    "\n",
    "def vertical_launch_orientation_high(ksc, vessel):\n",
    "    '''Orientation for vertical launch of roundish vehicles. High-altitude to orbit.\n",
    "        good once vessel is pointed to within 45 deg of the horizon\n",
    "        \n",
    "        pitch: angle between forward and up\n",
    "        roll: angle between starboard and east\n",
    "    '''\n",
    "    flight = vessel.flight(vessel.surface_reference_frame)\n",
    "    return flight.pitch, flight.heading, flight.roll\n",
    "    "
   ]
  },
  {
   "cell_type": "code",
   "execution_count": 5,
   "metadata": {
    "collapsed": false
   },
   "outputs": [],
   "source": [
    "def vessel_surface_orientation(ksc, vessel):\n",
    "    vessel_direction = vessel.direction(vessel.surface_reference_frame)\n",
    "    \n",
    "    # Get the direction of the vessel in the horizon plane\n",
    "    horizon_direction = (0, vessel_direction[1], vessel_direction[2])\n",
    "    \n",
    "    # Compute the pitch - the angle between the vessels direction\n",
    "    # and the direction in the horizon plane\n",
    "    pitch = angle_between_vectors(vessel_direction, horizon_direction)\n",
    "    if vessel_direction[0] < 0:\n",
    "        pitch = -pitch\n",
    "\n",
    "    # Compute the heading - the angle between north\n",
    "    # and the direction in the horizon plane\n",
    "    north = (0,1,0)\n",
    "    heading = angle_between_vectors(north, horizon_direction)\n",
    "    if horizon_direction[2] < 0:\n",
    "        heading = 360 - heading\n",
    "\n",
    "    # Compute the roll\n",
    "    # Compute the plane running through the vessels direction\n",
    "    # and the upwards direction\n",
    "    up = (1,0,0)\n",
    "    plane_normal = cross_product(vessel_direction, up)\n",
    "    # Compute the upwards direction of the vessel\n",
    "    vessel_up = ksc.transform_direction(\n",
    "        (0,0,-1), vessel.reference_frame, vessel.surface_reference_frame)\n",
    "    # Compute the angle between the upwards direction of the vessel and the plane\n",
    "    roll = angle_between_vector_and_plane(vessel_up, plane_normal)\n",
    "    # Adjust so that the angle is between -180 and 180 and\n",
    "    # rolling right is +ve and left is -ve\n",
    "    if vessel_up[0] > 0:\n",
    "        roll *= -1\n",
    "    elif roll < 0:\n",
    "        roll += 180\n",
    "    else:\n",
    "        roll -= 180\n",
    "        \n",
    "    return pitch, heading, roll"
   ]
  },
  {
   "cell_type": "code",
   "execution_count": 6,
   "metadata": {
    "collapsed": false
   },
   "outputs": [
    {
     "name": "stdout",
     "output_type": "stream",
     "text": [
      "(89.95713173684966, 270.3354599848029, -91.05429884046353)\n"
     ]
    }
   ],
   "source": [
    "print(vessel_surface_orientation(ksc,vessel))"
   ]
  },
  {
   "cell_type": "code",
   "execution_count": 7,
   "metadata": {
    "collapsed": false
   },
   "outputs": [],
   "source": [
    "import wernher"
   ]
  },
  {
   "cell_type": "code",
   "execution_count": 8,
   "metadata": {
    "collapsed": true
   },
   "outputs": [],
   "source": [
    "con = wernher.Controller()"
   ]
  },
  {
   "cell_type": "code",
   "execution_count": 9,
   "metadata": {
    "collapsed": true
   },
   "outputs": [],
   "source": [
    "con.kp = .1\n",
    "con.ki = 0.05\n",
    "con.kd = .2\n",
    "con.cmin = -1\n",
    "con.cmax = 1"
   ]
  },
  {
   "cell_type": "code",
   "execution_count": 10,
   "metadata": {
    "collapsed": false
   },
   "outputs": [
    {
     "ename": "KeyboardInterrupt",
     "evalue": "",
     "output_type": "error",
     "traceback": [
      "\u001b[1;31m---------------------------------------------------------------------------\u001b[0m",
      "\u001b[1;31mKeyboardInterrupt\u001b[0m                         Traceback (most recent call last)",
      "\u001b[1;32m<ipython-input-10-746e982b7a02>\u001b[0m in \u001b[0;36m<module>\u001b[1;34m()\u001b[0m\n\u001b[0;32m      7\u001b[0m     \u001b[0mroll\u001b[0m\u001b[1;33m.\u001b[0m\u001b[0mappend\u001b[0m\u001b[1;33m(\u001b[0m\u001b[0mr\u001b[0m\u001b[1;33m)\u001b[0m\u001b[1;33m\u001b[0m\u001b[0m\n\u001b[0;32m      8\u001b[0m     \u001b[0mconroll\u001b[0m\u001b[1;33m.\u001b[0m\u001b[0mappend\u001b[0m\u001b[1;33m(\u001b[0m\u001b[0mc\u001b[0m\u001b[1;33m)\u001b[0m\u001b[1;33m\u001b[0m\u001b[0m\n\u001b[1;32m----> 9\u001b[1;33m     \u001b[0mvessel\u001b[0m\u001b[1;33m.\u001b[0m\u001b[0mcontrol\u001b[0m\u001b[1;33m.\u001b[0m\u001b[0mroll\u001b[0m \u001b[1;33m=\u001b[0m \u001b[0mc\u001b[0m\u001b[1;33m\u001b[0m\u001b[0m\n\u001b[0m\u001b[0;32m     10\u001b[0m     \u001b[0mtime\u001b[0m\u001b[1;33m.\u001b[0m\u001b[0msleep\u001b[0m\u001b[1;33m(\u001b[0m\u001b[1;36m1\u001b[0m\u001b[1;33m/\u001b[0m\u001b[1;36m100\u001b[0m\u001b[1;33m)\u001b[0m\u001b[1;33m\u001b[0m\u001b[0m\n",
      "\u001b[1;32m<string>\u001b[0m in \u001b[0;36m<lambda>\u001b[1;34m(this, value)\u001b[0m\n",
      "\u001b[1;32m/home/goetz/.local/lib/python3.4/site-packages/krpc/client.py\u001b[0m in \u001b[0;36m_invoke\u001b[1;34m(self, service, procedure, args, kwargs, param_names, param_types, return_type)\u001b[0m\n\u001b[0;32m     81\u001b[0m         \u001b[1;32mwith\u001b[0m \u001b[0mself\u001b[0m\u001b[1;33m.\u001b[0m\u001b[0m_rpc_connection_lock\u001b[0m\u001b[1;33m:\u001b[0m\u001b[1;33m\u001b[0m\u001b[0m\n\u001b[0;32m     82\u001b[0m             \u001b[0mself\u001b[0m\u001b[1;33m.\u001b[0m\u001b[0m_send_request\u001b[0m\u001b[1;33m(\u001b[0m\u001b[0mrequest\u001b[0m\u001b[1;33m)\u001b[0m\u001b[1;33m\u001b[0m\u001b[0m\n\u001b[1;32m---> 83\u001b[1;33m             \u001b[0mresponse\u001b[0m \u001b[1;33m=\u001b[0m \u001b[0mself\u001b[0m\u001b[1;33m.\u001b[0m\u001b[0m_receive_response\u001b[0m\u001b[1;33m(\u001b[0m\u001b[1;33m)\u001b[0m\u001b[1;33m\u001b[0m\u001b[0m\n\u001b[0m\u001b[0;32m     84\u001b[0m \u001b[1;33m\u001b[0m\u001b[0m\n\u001b[0;32m     85\u001b[0m         \u001b[1;31m# Check for an error response\u001b[0m\u001b[1;33m\u001b[0m\u001b[1;33m\u001b[0m\u001b[0m\n",
      "\u001b[1;32m/home/goetz/.local/lib/python3.4/site-packages/krpc/client.py\u001b[0m in \u001b[0;36m_receive_response\u001b[1;34m(self)\u001b[0m\n\u001b[0;32m    155\u001b[0m         \u001b[1;32mwhile\u001b[0m \u001b[1;32mTrue\u001b[0m\u001b[1;33m:\u001b[0m\u001b[1;33m\u001b[0m\u001b[0m\n\u001b[0;32m    156\u001b[0m             \u001b[1;32mtry\u001b[0m\u001b[1;33m:\u001b[0m\u001b[1;33m\u001b[0m\u001b[0m\n\u001b[1;32m--> 157\u001b[1;33m                 \u001b[0mdata\u001b[0m \u001b[1;33m+=\u001b[0m \u001b[0mself\u001b[0m\u001b[1;33m.\u001b[0m\u001b[0m_rpc_connection\u001b[0m\u001b[1;33m.\u001b[0m\u001b[0mpartial_receive\u001b[0m\u001b[1;33m(\u001b[0m\u001b[1;36m1\u001b[0m\u001b[1;33m)\u001b[0m\u001b[1;33m\u001b[0m\u001b[0m\n\u001b[0m\u001b[0;32m    158\u001b[0m                 \u001b[0msize\u001b[0m\u001b[1;33m,\u001b[0m \u001b[0m_\u001b[0m \u001b[1;33m=\u001b[0m \u001b[0mDecoder\u001b[0m\u001b[1;33m.\u001b[0m\u001b[0mdecode_size_and_position\u001b[0m\u001b[1;33m(\u001b[0m\u001b[0mdata\u001b[0m\u001b[1;33m)\u001b[0m\u001b[1;33m\u001b[0m\u001b[0m\n\u001b[0;32m    159\u001b[0m                 \u001b[1;32mbreak\u001b[0m\u001b[1;33m\u001b[0m\u001b[0m\n",
      "\u001b[1;32m/home/goetz/.local/lib/python3.4/site-packages/krpc/connection.py\u001b[0m in \u001b[0;36mpartial_receive\u001b[1;34m(self, length, timeout)\u001b[0m\n\u001b[0;32m     60\u001b[0m         \u001b[1;32massert\u001b[0m \u001b[0mlength\u001b[0m \u001b[1;33m>\u001b[0m \u001b[1;36m0\u001b[0m\u001b[1;33m\u001b[0m\u001b[0m\n\u001b[0;32m     61\u001b[0m         \u001b[1;32mtry\u001b[0m\u001b[1;33m:\u001b[0m\u001b[1;33m\u001b[0m\u001b[0m\n\u001b[1;32m---> 62\u001b[1;33m             \u001b[0mready\u001b[0m \u001b[1;33m=\u001b[0m \u001b[0mselect\u001b[0m\u001b[1;33m.\u001b[0m\u001b[0mselect\u001b[0m\u001b[1;33m(\u001b[0m\u001b[1;33m[\u001b[0m\u001b[0mself\u001b[0m\u001b[1;33m.\u001b[0m\u001b[0m_socket\u001b[0m\u001b[1;33m]\u001b[0m\u001b[1;33m,\u001b[0m \u001b[1;33m[\u001b[0m\u001b[1;33m]\u001b[0m\u001b[1;33m,\u001b[0m \u001b[1;33m[\u001b[0m\u001b[1;33m]\u001b[0m\u001b[1;33m,\u001b[0m \u001b[0mtimeout\u001b[0m\u001b[1;33m)\u001b[0m\u001b[1;33m\u001b[0m\u001b[0m\n\u001b[0m\u001b[0;32m     63\u001b[0m         \u001b[1;32mexcept\u001b[0m \u001b[0mValueError\u001b[0m\u001b[1;33m:\u001b[0m\u001b[1;33m\u001b[0m\u001b[0m\n\u001b[0;32m     64\u001b[0m             \u001b[1;32mraise\u001b[0m \u001b[0msocket\u001b[0m\u001b[1;33m.\u001b[0m\u001b[0merror\u001b[0m\u001b[1;33m(\u001b[0m\u001b[1;34m\"Connection closed\"\u001b[0m\u001b[1;33m)\u001b[0m\u001b[1;33m\u001b[0m\u001b[0m\n",
      "\u001b[1;31mKeyboardInterrupt\u001b[0m: "
     ]
    }
   ],
   "source": [
    "tt,roll,conroll = [],[],[]\n",
    "con.t0 = ksc.ut\n",
    "con.set_point = vessel_surface_orientation(ksc,vessel)[2]*3.14159/180\n",
    "while True:\n",
    "    t = ksc.ut\n",
    "    p,h,r = vessel_surface_orientation(ksc,vessel)\n",
    "    c = con(r*3.14159/180,t)\n",
    "    tt.append(t)\n",
    "    roll.append(r)\n",
    "    conroll.append(c)\n",
    "    vessel.control.roll = c\n",
    "    time.sleep(1/100)"
   ]
  },
  {
   "cell_type": "code",
   "execution_count": 13,
   "metadata": {
    "collapsed": false
   },
   "outputs": [],
   "source": [
    "tt = np.array(tt)\n",
    "roll = np.array(roll)\n",
    "conroll = np.array(conroll)"
   ]
  },
  {
   "cell_type": "code",
   "execution_count": 24,
   "metadata": {
    "collapsed": false
   },
   "outputs": [
    {
     "data": {
      "text/plain": [
       "[<matplotlib.lines.Line2D at 0x7f4470528438>]"
      ]
     },
     "execution_count": 24,
     "metadata": {},
     "output_type": "execute_result"
    },
    {
     "data": {
      "image/png": "[encoded data removed]",
      "text/plain": [
       "<matplotlib.figure.Figure at 0x7f44706949e8>"
      ]
     },
     "metadata": {},
     "output_type": "display_data"
    }
   ],
   "source": [
    "%matplotlib inline\n",
    "from matplotlib import pyplot\n",
    "fig,ax = pyplot.subplots(2)\n",
    "ax[0].plot(tt[:10],roll[:10])\n",
    "ax[1].plot(tt[:10],conroll[:10])"
   ]
  },
  {
   "cell_type": "code",
   "execution_count": 21,
   "metadata": {
    "collapsed": false
   },
   "outputs": [
    {
     "name": "stdout",
     "output_type": "stream",
     "text": [
      "[ 101640.77278381  101641.13278381  101641.47278381  101641.81278381\n",
      "  101642.19278381  101642.55278381  101642.89278381  101643.21278381\n",
      "  101643.57278381  101643.91278381  101644.29278381  101644.61278381\n",
      "  101644.95278381  101645.27278381  101645.61278381  101646.01278381\n",
      "  101646.37278381  101646.69278381  101647.03278381  101647.37278381\n",
      "  101647.79278381  101648.11278381  101648.45278381  101648.81278381\n",
      "  101649.13278381  101649.45278381  101649.79278381  101650.15278381\n",
      "  101650.51278381  101650.85278381  101651.17278381  101651.51278381\n",
      "  101651.85278381  101652.19278381  101652.51278381  101652.85278381\n",
      "  101653.17278381  101653.53278381  101653.87278381  101654.21278381\n",
      "  101654.53278381  101654.87278381  101655.15278381  101655.47278381\n",
      "  101655.83278381  101656.17278381  101656.49278381  101656.83278381\n",
      "  101657.17278381  101657.49278381  101657.85278381  101658.25278381\n",
      "  101658.57278381  101658.95278381  101659.31278381  101659.69278381\n",
      "  101660.01278381  101660.39278381  101660.69278381  101661.07278382\n",
      "  101661.41278382  101661.81278382  101662.15278382  101662.49278382\n",
      "  101662.95278382  101663.31278382  101663.67278382  101664.01278382\n",
      "  101664.35278382  101664.77278382  101665.11278382  101665.49278382\n",
      "  101665.81278382  101666.15278382  101666.49278382  101666.91278382\n",
      "  101667.25278382  101667.57278382  101667.91278382  101668.29278382\n",
      "  101668.65278382  101669.05278382  101669.51278382  101669.87278382\n",
      "  101670.23278382  101670.57278382  101670.89278382  101671.23278382\n",
      "  101671.57278382  101672.13278382  101673.29278382  101673.63278382\n",
      "  101673.95278382  101674.31278382  101674.65278382  101674.99278382\n",
      "  101675.31278382  101675.75278382  101676.09278382  101676.45278382\n",
      "  101676.79278382  101677.09278382  101677.37278382  101677.71278382\n",
      "  101678.05278382  101678.33278382  101678.61278382  101678.95278382\n",
      "  101679.27278382  101679.61278382  101680.13278382  101680.53278382\n",
      "  101681.21278382  101681.79278382  101682.21278382  101682.53278382\n",
      "  101682.89278382  101683.25278382  101683.59278382  101683.91278382\n",
      "  101684.29278382]\n"
     ]
    }
   ],
   "source": [
    "print(tt)"
   ]
  },
  {
   "cell_type": "code",
   "execution_count": 22,
   "metadata": {
    "collapsed": false
   },
   "outputs": [
    {
     "name": "stdout",
     "output_type": "stream",
     "text": [
      "[ -90.65857882  -71.68403997    1.22500603  112.74839453 -144.73931832\n",
      "  -45.64570829   71.7869815   172.65753901 -118.51359402  -74.75169824\n",
      "   13.78494628  112.37484976  174.44541738 -158.1828721  -113.31885381\n",
      "  -22.21232791   59.90721861  112.43109347  139.87828353  147.03122558\n",
      "  143.36377255  135.97850052  124.471226    109.52586338   88.02747022\n",
      "   67.42182814   42.23027153   17.42897081   -4.94207915  -22.96774447\n",
      "  -39.80190554  -56.72733216  -71.25735099  -86.08183228  -97.82160259\n",
      " -107.60644586 -117.1767522  -123.64956273 -127.5135368  -129.69536249\n",
      " -131.29961396 -131.85754835 -131.62160558 -130.25038756 -128.33797474\n",
      " -125.85314476 -122.42778926 -118.56364137 -114.96097685 -111.17327884\n",
      " -106.95030713 -102.99592547  -99.4223812   -95.9767651   -93.13610249\n",
      "  -90.19695801  -87.7997902   -85.93754992  -84.28298917  -82.86812272\n",
      "  -82.02957338  -81.58756088  -81.32194471  -81.18011646  -81.3540939\n",
      "  -81.7583353   -82.30252782  -82.95334208  -83.80197978  -84.55983321\n",
      "  -85.31447484  -86.07018071  -86.89498073  -87.71514135  -88.50551116\n",
      "  -89.16755571  -89.68664948  -90.1808009   -90.69813213  -91.14523657\n",
      "  -91.42526373  -91.62815329  -91.8480145   -91.95703522  -92.00296424\n",
      "  -91.9841559   -91.91155133  -91.81677141  -91.72321065  -91.33188777\n",
      "  -90.89614224  -90.77274938  -90.62992285  -90.45527774  -90.34144956\n",
      "  -90.23565886  -90.09182577  -89.94979243  -89.87131089  -89.80059615\n",
      "  -89.74120008  -89.69764784  -89.64619933  -89.61160085  -89.59997177\n",
      "  -89.5882573   -89.58368399  -89.58864605  -89.5953681   -89.61243984\n",
      "  -89.65232052  -89.69285797  -89.75896541  -89.77436902  -89.81039223\n",
      "  -89.84932359  -89.89771608  -89.92852888  -89.95219988  -89.98435824\n",
      "  -90.00845738]\n"
     ]
    }
   ],
   "source": [
    "print(roll)"
   ]
  },
  {
   "cell_type": "code",
   "execution_count": 23,
   "metadata": {
    "collapsed": false
   },
   "outputs": [
    {
     "name": "stdout",
     "output_type": "stream",
     "text": [
      "[  1.00000000e+00   7.78296357e-01   5.94308685e-02  -5.91809929e-01\n",
      "   1.00000000e+00  -1.27010506e-01  -6.24772664e-01  -7.68860328e-01\n",
      "   1.00000000e+00   3.18422226e-01  -2.34524156e-01  -7.25265711e-01\n",
      "  -4.73869357e-01   1.00000000e+00   2.30986034e-01  -2.86138355e-01\n",
      "  -4.77757750e-01  -4.02651697e-01  -2.27606386e-01  -1.02065519e-01\n",
      "  -7.72796782e-02  -7.74147665e-02  -8.33854175e-02  -9.32104796e-02\n",
      "  -1.58066537e-02  -3.35418799e-02   5.05215984e-03  -3.56371562e-03\n",
      "  -1.48049685e-02  -3.50858581e-02  -2.11535221e-02  -1.13501915e-02\n",
      "  -1.61443722e-02   1.15898023e-02   1.01271478e-02   4.82532421e-03\n",
      "   3.30561751e-02   1.32909936e-02   8.07329449e-03   6.38913496e-03\n",
      "   1.58217461e-02   1.74433527e-02   1.85321047e-02   1.53626539e-02\n",
      "   2.04834797e-02   1.98168925e-02   1.10401032e-02   1.04639030e-02\n",
      "   1.42666912e-02   9.23850353e-03   7.56341168e-03   1.16367433e-02\n",
      "   3.55813293e-03   6.85645229e-03   6.99118886e-03   2.47175863e-03\n",
      "  -1.47672905e-03   2.96849583e-03  -3.56121648e-03  -2.14084028e-03\n",
      "  -1.58146190e-03  -5.37615555e-04  -2.44573207e-03  -4.03929353e-03\n",
      "  -4.43002620e-03  -3.71426079e-03  -3.82569348e-03  -3.37555626e-03\n",
      "  -1.70241258e-03  -4.78770221e-03  -3.41178181e-03  -4.20176765e-03\n",
      "  -1.57400614e-03  -1.39736359e-03  -7.67183969e-04  -2.52893504e-03\n",
      "  -1.88888164e-03  -9.14930879e-04   1.16020574e-04   7.19611579e-05\n",
      "  -3.83395104e-04  -4.05627935e-04   6.17788727e-04   8.11588999e-04\n",
      "   9.09245540e-04   8.26690875e-04   6.34883455e-04   8.27429608e-04\n",
      "   1.18793845e-03  -3.22849721e-04   9.51786346e-04   1.01011450e-03\n",
      "   6.45577675e-04   3.48383509e-04   7.75799078e-04   7.43598855e-04\n",
      "   3.53457018e-05   2.10352668e-04   3.56246809e-04   2.90254238e-04\n",
      "   1.85672432e-04   1.33548787e-04  -1.77331888e-04  -6.67785184e-05\n",
      "   3.00527882e-05  -1.17648941e-04  -1.38329665e-04  -1.43763093e-04\n",
      "  -2.22642715e-04  -2.05895219e-04  -2.01620338e-04  -1.52037362e-04\n",
      "  -1.94096006e-04  -5.28059537e-04  -3.27994730e-04  -1.76840531e-04\n",
      "  -7.99616739e-05  -2.19093818e-04  -2.47710398e-04  -8.81800020e-05\n",
      "  -1.72734363e-04]\n"
     ]
    }
   ],
   "source": [
    "print(conroll)"
   ]
  }
 ],
 "metadata": {
  "kernelspec": {
   "display_name": "Python 3",
   "language": "python",
   "name": "python3"
  },
  "language_info": {
   "codemirror_mode": {
    "name": "ipython",
    "version": 3
   },
   "file_extension": ".py",
   "mimetype": "text/x-python",
   "name": "python",
   "nbconvert_exporter": "python",
   "pygments_lexer": "ipython3",
   "version": "3.4.3"
  }
 },
 "nbformat": 4,
 "nbformat_minor": 0
}
