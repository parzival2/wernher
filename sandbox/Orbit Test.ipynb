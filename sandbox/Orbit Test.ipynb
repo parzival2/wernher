{
 "cells": [
  {
   "cell_type": "code",
   "execution_count": 1,
   "metadata": {
    "collapsed": false
   },
   "outputs": [],
   "source": [
    "%run -i '../Common.ipynb'"
   ]
  },
  {
   "cell_type": "code",
   "execution_count": 2,
   "metadata": {
    "collapsed": false
   },
   "outputs": [],
   "source": [
    "%load_ext autoreload\n",
    "%autoreload 2\n",
    "sys.path.append('home/goetz/local/lib64/python')\n",
    "%aimport ksp"
   ]
  },
  {
   "cell_type": "code",
   "execution_count": 3,
   "metadata": {
    "collapsed": false
   },
   "outputs": [],
   "source": [
    "class Bunch(dict):\n",
    "    def __contains__(self, k):\n",
    "        try:\n",
    "            return dict.__contains__(self, k) or hasattr(self, k)\n",
    "        except:\n",
    "            return False\n",
    "    def __getattr__(self, k):\n",
    "        try:\n",
    "            return object.__getattribute__(self, k)\n",
    "        except AttributeError:\n",
    "            try:\n",
    "                return self[k]\n",
    "            except KeyError:\n",
    "                raise AttributeError(k)\n",
    "    def __setattr__(self, k, v):\n",
    "        try:\n",
    "            object.__getattribute__(self, k)\n",
    "        except AttributeError:\n",
    "            try:\n",
    "                self[k] = v\n",
    "            except:\n",
    "                raise AttributeError(k)\n",
    "        else:\n",
    "            object.__setattr__(self, k, v)\n",
    "    def __delattr__(self, k):\n",
    "        try:\n",
    "            object.__getattribute__(self, k)\n",
    "        except AttributeError:\n",
    "            try:\n",
    "                del self[k]\n",
    "            except KeyError:\n",
    "                raise AttributeError(k)\n",
    "        else:\n",
    "            object.__delattr__(self, k)"
   ]
  },
  {
   "cell_type": "code",
   "execution_count": 4,
   "metadata": {
    "collapsed": false
   },
   "outputs": [
    {
     "ename": "AttributeError",
     "evalue": "can't set attribute",
     "output_type": "error",
     "traceback": [
      "\u001b[1;31m---------------------------------------------------------------------------\u001b[0m\n\u001b[1;31mAttributeError\u001b[0m                            Traceback (most recent call last)",
      "\u001b[1;32m<ipython-input-4-38a8d712f850>\u001b[0m in \u001b[0;36m<module>\u001b[1;34m()\u001b[0m\n\u001b[0;32m     26\u001b[0m \u001b[0moe\u001b[0m\u001b[1;33m.\u001b[0m\u001b[0meccentricity\u001b[0m \u001b[1;33m=\u001b[0m \u001b[1;36m1.4\u001b[0m\u001b[1;33m\u001b[0m\u001b[0m\n\u001b[0;32m     27\u001b[0m \u001b[1;33m\u001b[0m\u001b[0m\n\u001b[1;32m---> 28\u001b[1;33m \u001b[0mho\u001b[0m \u001b[1;33m=\u001b[0m \u001b[0mksp\u001b[0m\u001b[1;33m.\u001b[0m\u001b[0mHyperbolicOrbit\u001b[0m\u001b[1;33m(\u001b[0m\u001b[0moe\u001b[0m\u001b[1;33m)\u001b[0m\u001b[1;33m\u001b[0m\u001b[0m\n\u001b[0m\u001b[0;32m     29\u001b[0m \u001b[1;33m\u001b[0m\u001b[0m\n\u001b[0;32m     30\u001b[0m \u001b[1;32massert\u001b[0m \u001b[0mo\u001b[0m\u001b[1;33m.\u001b[0m\u001b[0mtrue_anomaly_at_epoch\u001b[0m \u001b[1;33m==\u001b[0m \u001b[0mho\u001b[0m\u001b[1;33m.\u001b[0m\u001b[0mtrue_anomaly_at_epoch\u001b[0m\u001b[1;33m\u001b[0m\u001b[0m\n",
      "\u001b[1;32m/home/goetz/local/lib64/python/ksp/hyperbolic_orbit.py\u001b[0m in \u001b[0;36m__init__\u001b[1;34m(self, orbit)\u001b[0m\n\u001b[0;32m      7\u001b[0m     \u001b[1;32mdef\u001b[0m \u001b[0m__init__\u001b[0m\u001b[1;33m(\u001b[0m\u001b[0mself\u001b[0m\u001b[1;33m,\u001b[0m\u001b[0morbit\u001b[0m\u001b[1;33m)\u001b[0m\u001b[1;33m:\u001b[0m\u001b[1;33m\u001b[0m\u001b[0m\n\u001b[0;32m      8\u001b[0m         \u001b[1;31m#super().__init__(orbit)\u001b[0m\u001b[1;33m\u001b[0m\u001b[1;33m\u001b[0m\u001b[0m\n\u001b[1;32m----> 9\u001b[1;33m         \u001b[0mBaseOrbit\u001b[0m\u001b[1;33m.\u001b[0m\u001b[0m__init__\u001b[0m\u001b[1;33m(\u001b[0m\u001b[0mself\u001b[0m\u001b[1;33m,\u001b[0m\u001b[0morbit\u001b[0m\u001b[1;33m)\u001b[0m\u001b[1;33m\u001b[0m\u001b[0m\n\u001b[0m\u001b[0;32m     10\u001b[0m \u001b[1;33m\u001b[0m\u001b[0m\n\u001b[0;32m     11\u001b[0m \u001b[1;33m\u001b[0m\u001b[0m\n",
      "\u001b[1;32m/home/goetz/local/lib64/python/ksp/base_orbit.py\u001b[0m in \u001b[0;36m__init__\u001b[1;34m(self, orbit)\u001b[0m\n\u001b[0;32m     65\u001b[0m         \u001b[1;32mfor\u001b[0m \u001b[0ma\u001b[0m \u001b[1;32min\u001b[0m \u001b[0mattrs\u001b[0m\u001b[1;33m:\u001b[0m\u001b[1;33m\u001b[0m\u001b[0m\n\u001b[0;32m     66\u001b[0m             \u001b[1;32mif\u001b[0m \u001b[0mhasattr\u001b[0m\u001b[1;33m(\u001b[0m\u001b[0morbit\u001b[0m\u001b[1;33m,\u001b[0m\u001b[0ma\u001b[0m\u001b[1;33m)\u001b[0m\u001b[1;33m:\u001b[0m\u001b[1;33m\u001b[0m\u001b[0m\n\u001b[1;32m---> 67\u001b[1;33m                 \u001b[0msetattr\u001b[0m\u001b[1;33m(\u001b[0m\u001b[0mself\u001b[0m\u001b[1;33m,\u001b[0m\u001b[0ma\u001b[0m\u001b[1;33m,\u001b[0m\u001b[0mgetattr\u001b[0m\u001b[1;33m(\u001b[0m\u001b[0morbit\u001b[0m\u001b[1;33m,\u001b[0m\u001b[0ma\u001b[0m\u001b[1;33m)\u001b[0m\u001b[1;33m)\u001b[0m\u001b[1;33m\u001b[0m\u001b[0m\n\u001b[0m\u001b[0;32m     68\u001b[0m \u001b[1;33m\u001b[0m\u001b[0m\n\u001b[0;32m     69\u001b[0m     \u001b[1;32mdef\u001b[0m \u001b[0mclear_attributes\u001b[0m\u001b[1;33m(\u001b[0m\u001b[0mself\u001b[0m\u001b[1;33m,\u001b[0m\u001b[0mattrs\u001b[0m\u001b[1;33m)\u001b[0m\u001b[1;33m:\u001b[0m\u001b[1;33m\u001b[0m\u001b[0m\n",
      "\u001b[1;32m/home/goetz/local/lib64/python/ksp/base_orbit.py\u001b[0m in \u001b[0;36m__setattr__\u001b[1;34m(self, name, value)\u001b[0m\n\u001b[0;32m     88\u001b[0m         \u001b[1;32melif\u001b[0m \u001b[0mname\u001b[0m \u001b[1;32min\u001b[0m \u001b[0mBaseOrbit\u001b[0m\u001b[1;33m.\u001b[0m\u001b[0m_state_vectors\u001b[0m\u001b[1;33m:\u001b[0m\u001b[1;33m\u001b[0m\u001b[0m\n\u001b[0;32m     89\u001b[0m             \u001b[0mself\u001b[0m\u001b[1;33m.\u001b[0m\u001b[0mclear_orbital_elements\u001b[0m\u001b[1;33m(\u001b[0m\u001b[1;33m)\u001b[0m\u001b[1;33m\u001b[0m\u001b[0m\n\u001b[1;32m---> 90\u001b[1;33m         \u001b[0msuper\u001b[0m\u001b[1;33m(\u001b[0m\u001b[1;33m)\u001b[0m\u001b[1;33m.\u001b[0m\u001b[0m__setattr__\u001b[0m\u001b[1;33m(\u001b[0m\u001b[0mname\u001b[0m\u001b[1;33m,\u001b[0m\u001b[0mvalue\u001b[0m\u001b[1;33m)\u001b[0m\u001b[1;33m\u001b[0m\u001b[0m\n\u001b[0m\u001b[0;32m     91\u001b[0m \u001b[1;33m\u001b[0m\u001b[0m\n\u001b[0;32m     92\u001b[0m     \u001b[1;33m@\u001b[0m\u001b[0mproperty\u001b[0m\u001b[1;33m\u001b[0m\u001b[0m\n",
      "\u001b[1;31mAttributeError\u001b[0m: can't set attribute"
     ]
    }
   ],
   "source": [
    "π = np.pi\n",
    "deg = 180/π\n",
    "\n",
    "b = Bunch(\n",
    "    name = 'Kerbin',\n",
    "    gravitational_parameter = 3.5316e12,\n",
    "    equatorial_radius = 600000,\n",
    "    rotational_speed = 2*π / 21600)\n",
    "\n",
    "oe = Bunch(\n",
    "    eccentricity = 0.5,\n",
    "    inclination = π/3,\n",
    "    longitude_of_ascending_node = π+0.1,\n",
    "    argument_of_periapsis = π-2,\n",
    "    semi_major_axis = 3420030,\n",
    "    mean_anomaly_at_epoch = π+0.1,\n",
    "    epoch = 1000,\n",
    "    body = b)\n",
    "\n",
    "o = ksp.Orbit(oe)\n",
    "eo = ksp.EllipticOrbit(oe)\n",
    "\n",
    "assert o.true_anomaly_at_epoch == eo.true_anomaly_at_epoch\n",
    "assert o.specific_angular_momentum == eo.specific_angular_momentum\n",
    "\n",
    "oe.eccentricity = 1.4\n",
    "\n",
    "ho = ksp.HyperbolicOrbit(oe)\n",
    "\n",
    "assert o.true_anomaly_at_epoch == ho.true_anomaly_at_epoch\n",
    "assert o.specific_angular_momentum == ho.specific_angular_momentum\n"
   ]
  }
 ],
 "metadata": {
  "kernelspec": {
   "display_name": "Python 3",
   "language": "python",
   "name": "python3"
  },
  "language_info": {
   "codemirror_mode": {
    "name": "ipython",
    "version": 3
   },
   "file_extension": ".py",
   "mimetype": "text/x-python",
   "name": "python",
   "nbconvert_exporter": "python",
   "pygments_lexer": "ipython3",
   "version": "3.4.1"
  }
 },
 "nbformat": 4,
 "nbformat_minor": 0
}
