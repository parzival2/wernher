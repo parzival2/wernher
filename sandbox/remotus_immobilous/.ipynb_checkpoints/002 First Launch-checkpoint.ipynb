{
 "cells": [
  {
   "cell_type": "code",
   "execution_count": 1,
   "metadata": {
    "collapsed": false
   },
   "outputs": [],
   "source": [
    "import krpc"
   ]
  },
  {
   "cell_type": "code",
   "execution_count": 2,
   "metadata": {
    "collapsed": true
   },
   "outputs": [],
   "source": [
    "import numpy as np\n",
    "import time"
   ]
  },
  {
   "cell_type": "markdown",
   "metadata": {},
   "source": [
    "This is a simple launch. No reference to geo-position in control loop. Roll and yaw will be fixed at zero. Pitch will start at 90 deg until 60 m/s at which point we will pitch towards 30 deg above the eastern horizon at flame-out.\n",
    "\n",
    "This is a booster-only single-body rocket with two stages: launch and parachute."
   ]
  },
  {
   "cell_type": "code",
   "execution_count": 3,
   "metadata": {
    "collapsed": true
   },
   "outputs": [],
   "source": [
    "linkup = krpc.connect('192.168.1.2', name='First Flight')"
   ]
  },
  {
   "cell_type": "code",
   "execution_count": 4,
   "metadata": {
    "collapsed": true
   },
   "outputs": [],
   "source": [
    "import numpy as np\n",
    "from matplotlib import pyplot, cm\n",
    "\n",
    "inf = np.inf\n",
    "isclose = np.isclose\n",
    "π = np.pi\n",
    "arctan = np.arctan\n",
    "sign = np.sign"
   ]
  },
  {
   "cell_type": "code",
   "execution_count": 5,
   "metadata": {
    "collapsed": false
   },
   "outputs": [],
   "source": [
    "class Controller(object):\n",
    "    '''Single Axis PID Controller'''\n",
    "    def __init__(self,set_point=0,limits=(-inf,inf),kp=1,ki=0,kd=0,t0=0):\n",
    "        # set point and control constants\n",
    "        self.set_point = set_point\n",
    "        self.min,self.max = limits\n",
    "        self.kp = kp\n",
    "        self.ki = ki\n",
    "        self.kd = kd\n",
    "\n",
    "        # time of previous call, running integral and\n",
    "        # proportional term of previous call\n",
    "        self.t0 = t0\n",
    "        self.I  = 0\n",
    "        self.P0 = 0\n",
    "\n",
    "        # response value of previous call\n",
    "        self.c = 0\n",
    "\n",
    "    def __call__(self,x,t):\n",
    "        # return previous value if no time has passed\n",
    "        if isclose(t - self.t0, 0):\n",
    "            return self.c\n",
    "\n",
    "        # bring instance variables into local scope\n",
    "        xset = self.set_point\n",
    "        kp = self.kp\n",
    "        ki = self.ki\n",
    "        kd = self.kd\n",
    "\n",
    "        # if parameters are all zero or None, return set point\n",
    "        if not any([kp,ki,kd]):\n",
    "            self.t0 = t\n",
    "            return xset\n",
    "\n",
    "        # bring instance variables into local scope\n",
    "        t0 = self.t0\n",
    "        I  = self.I\n",
    "        P0 = self.P0\n",
    "\n",
    "        # calculate PID terms\n",
    "        Δt = t - t0\n",
    "        P = xset - x\n",
    "        ΔP = P - P0\n",
    "        D = ΔP / Δt\n",
    "\n",
    "        # freeze integral for a small time on\n",
    "        # a large disturbance\n",
    "        if self.ki > 0:\n",
    "            if abs(kp*ΔP) > 0.5*(self.max - self.min):\n",
    "                self._t0_freeze_I = t\n",
    "            else:\n",
    "                try:\n",
    "                    if (t - self._t0_freeze_I) > self.ti:\n",
    "                        del self._t0_freeze_I\n",
    "                        I += P * Δt\n",
    "                except AttributeError:\n",
    "                    I += P * Δt\n",
    "\n",
    "            # turn off integral term if kp*P is out of the\n",
    "            # control range\n",
    "            if not (self.min < kp*P < self.max):\n",
    "                I = 0\n",
    "            else:\n",
    "                I = min(max(I, self.min/ki), self.max/ki)\n",
    "\n",
    "        # clip proportional gain\n",
    "        if not (self.min < kp*P < self.max):\n",
    "            P = min(max(P, self.min/kp), self.max/kp)\n",
    "\n",
    "        c = kp*P + ki*I + kd*D\n",
    "\n",
    "        # clip output to specified limits\n",
    "        c = min(max(c, self.min), self.max)\n",
    "\n",
    "        # save parameters to class instance\n",
    "        self.t0 = t\n",
    "        self.I  = I\n",
    "        self.P0 = P\n",
    "        self.c  = c\n",
    "\n",
    "        return c\n",
    "\n",
    "    @property\n",
    "    def ti(self):\n",
    "        '''integral time'''\n",
    "        return self.kp / self.ki\n",
    "    @ti.setter\n",
    "    def ti(self,ti):\n",
    "        self.ki = self.kp / ti\n",
    "\n",
    "    @property\n",
    "    def td(self):\n",
    "        '''derivative time'''\n",
    "        return self.kd / self.kp\n",
    "    @td.setter\n",
    "    def td(self,td):\n",
    "        self.kd = self.kp * td\n",
    "\n",
    "    @property\n",
    "    def ku(self):\n",
    "        '''ultimate gain, assuming classic ziegler-nichols pid scheme'''\n",
    "        return (1/.6)*self.kp\n",
    "    @ku.setter\n",
    "    def ku(self,ku):\n",
    "        self.kp = .6*ku\n",
    "\n",
    "    @property\n",
    "    def tu(self):\n",
    "        '''period of oscillation at ultimate gain'''\n",
    "        return 2*self.kp/self.ki\n",
    "    @tu.setter\n",
    "    def tu(self,tu):\n",
    "        self.ki = 2*self.kp/tu\n",
    "        self.kd = self.kp*tu/8\n",
    "\n",
    "    def ziegler_nichols(self,ku,tu,control_type='pid'):\n",
    "        '''\n",
    "            ku = ultimate gain\n",
    "            tu = period of oscillation at ultimate gain\n",
    "        '''\n",
    "        converter = dict(\n",
    "            p = lambda ku,tu: (.5*ku, 0, 0),\n",
    "            pi = lambda ku,tu: (.45*ku, 1.2*(.45*ku)/tu, 0),\n",
    "            pd = lambda ku,tu: (.8*ku, 0, (.8*ku)*tu/8),\n",
    "            pid = lambda ku,tu: (.6*ku, 2*(.6*ku)/tu, (.6*ku)*tu/8),\n",
    "            pessen = lambda ku,tu: (.7*ku, 2.5*(.7*ku)/tu, 3*(.7*ku)*tu/20),\n",
    "            some_overshoot = lambda ku,tu: (.33*ku, 2*(.33*ku)/tu, (.33*ku)*tu/3),\n",
    "            no_overshoot = lambda ku,tu: (.2*ku, 2*(.2*ku)/tu, (.2*ku)*tu/3)\n",
    "        )\n",
    "        self.kp,self.ki,self.kd = converter[control_type.lower()](ku,tu)"
   ]
  },
  {
   "cell_type": "code",
   "execution_count": 6,
   "metadata": {
    "collapsed": true
   },
   "outputs": [],
   "source": [
    "def main(linkup):\n",
    "    ksc = linkup.space_center\n",
    "    vessel = ksc.active_vessel\n",
    "    \n",
    "    body = vessel.orbit.body\n",
    "    altitude = linkup.add_stream(getattr, vessel.flight(body.reference_frame), 'mean_altitude')\n",
    "    vertical_speed = linkup.add_stream(getattr, vessel.flight(body.reference_frame), 'vertical_speed')\n",
    "    speed = linkup.add_stream(getattr, vessel.flight(body.reference_frame), 'speed')\n",
    "    pitch = linkup.add_stream(getattr, vessel.flight(body.reference_frame), 'pitch')\n",
    "    heading = linkup.add_stream(getattr, vessel.flight(body.reference_frame), 'heading')\n",
    "    roll = linkup.add_stream(getattr, vessel.flight(body.reference_frame), 'roll')\n",
    "    \n",
    "    con = vessel.control\n",
    "    \n",
    "    experiments = {'goo' : vessel.parts.with_name('GooExperiment')}\n",
    "    capsule = vessel.parts.with_name('mk1pod')[0]\n",
    "    \n",
    "    def crew_report(capsule):\n",
    "        report_module = capsule.module[2]\n",
    "        report_action = report_module.actions[0]\n",
    "        report_module.trigger_event(report_action)\n",
    "    \n",
    "    def observe_goo(goo_experiment):\n",
    "        goo_module = goo_experiment.modules[1]\n",
    "        observe_action = goo_module.actions[0]\n",
    "        goo_module.trigger_event(observe_action)\n",
    "    \n",
    "    t0 = ksc.ut\n",
    "    pitch_con = Controller(set_point=pitch()*π/180,limits=(-1,1),kp=1,ki=0.6,kd=1,t0=t0)\n",
    "    heading_con = Controller(set_point=heading()*π/180,limits=(-1,1),kp=1,ki=0.6,kd=1,t0=t0)\n",
    "    roll_con = Controller(set_point=roll()*π/180,limits=(-1,1),kp=1,ki=0.6,kd=1,t0=t0)\n",
    "    \n",
    "    observe_goo(experiments['goo'][0])\n",
    "    time.sleep(3)\n",
    "    \n",
    "    con.activate_next_stage() # launch!\n",
    "    \n",
    "    while speed() < 60:\n",
    "        t = ksc.ut\n",
    "        con.yaw = pitch_con(pitch()*π/180, t)\n",
    "        con.pitch = heading_con(heading()*π/180, t)\n",
    "        con.roll = roll_con(roll()*π/180, t)\n",
    "        time.sleep(0.01)\n",
    "    \n",
    "    ftot = vessel.resources.amount('SolidFuel')\n",
    "    frem = ftot\n",
    "    while frem > 0.1:\n",
    "        frem = vessel.resources.amount('SolidFuel')\n",
    "        pitch_con.set_point = 15 - (15 - 50) * (ftot - frem) / ftot\n",
    "        t = ksc.ut\n",
    "        con.yaw = pitch_con(pitch()*π/180, t)\n",
    "        con.pitch = heading_con(heading()*π/180, t)\n",
    "        con.roll = roll_con(roll()*π/180, t)\n",
    "        time.sleep(0.01)\n",
    "        \n",
    "    reported = False\n",
    "    while altitude() > 8000:\n",
    "        if not reported and vertical_speed() < 0:\n",
    "            observe_goo(experiments['goo'][1])\n",
    "            crew_report(capsule)\n",
    "            reported = True\n",
    "        time.sleep(1)\n",
    "            \n",
    "    con.activate_next_stage() # parachutes\n",
    "    \n",
    "    while vessel.situation is not splashed:\n",
    "        time.sleep(1)\n",
    "    \n",
    "    observe_goo(experiments['goo'][2])"
   ]
  },
  {
   "cell_type": "code",
   "execution_count": 7,
   "metadata": {
    "collapsed": false
   },
   "outputs": [
    {
     "ename": "RPCError",
     "evalue": "Procedure not available in game scene 'Editor'",
     "output_type": "error",
     "traceback": [
      "\u001b[1;31m---------------------------------------------------------------------------\u001b[0m",
      "\u001b[1;31mRPCError\u001b[0m                                  Traceback (most recent call last)",
      "\u001b[1;32m<ipython-input-7-b30ba828d219>\u001b[0m in \u001b[0;36m<module>\u001b[1;34m()\u001b[0m\n\u001b[1;32m----> 1\u001b[1;33m \u001b[0mmain\u001b[0m\u001b[1;33m(\u001b[0m\u001b[0mlinkup\u001b[0m\u001b[1;33m)\u001b[0m\u001b[1;33m\u001b[0m\u001b[0m\n\u001b[0m",
      "\u001b[1;32m<ipython-input-6-9aeb249d1e5a>\u001b[0m in \u001b[0;36mmain\u001b[1;34m(linkup)\u001b[0m\n\u001b[0;32m     38\u001b[0m     \u001b[1;32mwhile\u001b[0m \u001b[0mspeed\u001b[0m\u001b[1;33m(\u001b[0m\u001b[1;33m)\u001b[0m \u001b[1;33m<\u001b[0m \u001b[1;36m60\u001b[0m\u001b[1;33m:\u001b[0m\u001b[1;33m\u001b[0m\u001b[0m\n\u001b[0;32m     39\u001b[0m         \u001b[0mt\u001b[0m \u001b[1;33m=\u001b[0m \u001b[0mksc\u001b[0m\u001b[1;33m.\u001b[0m\u001b[0mut\u001b[0m\u001b[1;33m\u001b[0m\u001b[0m\n\u001b[1;32m---> 40\u001b[1;33m         \u001b[0mcon\u001b[0m\u001b[1;33m.\u001b[0m\u001b[0myaw\u001b[0m \u001b[1;33m=\u001b[0m \u001b[0mpitch_con\u001b[0m\u001b[1;33m(\u001b[0m\u001b[0mpitch\u001b[0m\u001b[1;33m(\u001b[0m\u001b[1;33m)\u001b[0m\u001b[1;33m*\u001b[0m\u001b[0mπ\u001b[0m\u001b[1;33m/\u001b[0m\u001b[1;36m180\u001b[0m\u001b[1;33m,\u001b[0m \u001b[0mt\u001b[0m\u001b[1;33m)\u001b[0m\u001b[1;33m\u001b[0m\u001b[0m\n\u001b[0m\u001b[0;32m     41\u001b[0m         \u001b[0mcon\u001b[0m\u001b[1;33m.\u001b[0m\u001b[0mpitch\u001b[0m \u001b[1;33m=\u001b[0m \u001b[0mheading_con\u001b[0m\u001b[1;33m(\u001b[0m\u001b[0mheading\u001b[0m\u001b[1;33m(\u001b[0m\u001b[1;33m)\u001b[0m\u001b[1;33m*\u001b[0m\u001b[0mπ\u001b[0m\u001b[1;33m/\u001b[0m\u001b[1;36m180\u001b[0m\u001b[1;33m,\u001b[0m \u001b[0mt\u001b[0m\u001b[1;33m)\u001b[0m\u001b[1;33m\u001b[0m\u001b[0m\n\u001b[0;32m     42\u001b[0m         \u001b[0mcon\u001b[0m\u001b[1;33m.\u001b[0m\u001b[0mroll\u001b[0m \u001b[1;33m=\u001b[0m \u001b[0mroll_con\u001b[0m\u001b[1;33m(\u001b[0m\u001b[0mroll\u001b[0m\u001b[1;33m(\u001b[0m\u001b[1;33m)\u001b[0m\u001b[1;33m*\u001b[0m\u001b[0mπ\u001b[0m\u001b[1;33m/\u001b[0m\u001b[1;36m180\u001b[0m\u001b[1;33m,\u001b[0m \u001b[0mt\u001b[0m\u001b[1;33m)\u001b[0m\u001b[1;33m\u001b[0m\u001b[0m\n",
      "\u001b[1;32m<string>\u001b[0m in \u001b[0;36m<lambda>\u001b[1;34m(this, value)\u001b[0m\n",
      "\u001b[1;32m/home/goetz/.local/lib/python3.4/site-packages/krpc/client.py\u001b[0m in \u001b[0;36m_invoke\u001b[1;34m(self, service, procedure, args, kwargs, param_names, param_types, return_type)\u001b[0m\n\u001b[0;32m     85\u001b[0m         \u001b[1;31m# Check for an error response\u001b[0m\u001b[1;33m\u001b[0m\u001b[1;33m\u001b[0m\u001b[0m\n\u001b[0;32m     86\u001b[0m         \u001b[1;32mif\u001b[0m \u001b[0mresponse\u001b[0m\u001b[1;33m.\u001b[0m\u001b[0mhas_error\u001b[0m\u001b[1;33m:\u001b[0m\u001b[1;33m\u001b[0m\u001b[0m\n\u001b[1;32m---> 87\u001b[1;33m             \u001b[1;32mraise\u001b[0m \u001b[0mRPCError\u001b[0m\u001b[1;33m(\u001b[0m\u001b[0mresponse\u001b[0m\u001b[1;33m.\u001b[0m\u001b[0merror\u001b[0m\u001b[1;33m)\u001b[0m\u001b[1;33m\u001b[0m\u001b[0m\n\u001b[0m\u001b[0;32m     88\u001b[0m \u001b[1;33m\u001b[0m\u001b[0m\n\u001b[0;32m     89\u001b[0m         \u001b[1;31m# Decode the response and return the (optional) result\u001b[0m\u001b[1;33m\u001b[0m\u001b[1;33m\u001b[0m\u001b[0m\n",
      "\u001b[1;31mRPCError\u001b[0m: Procedure not available in game scene 'Editor'"
     ]
    }
   ],
   "source": [
    "main(linkup)"
   ]
  },
  {
   "cell_type": "code",
   "execution_count": 25,
   "metadata": {
    "collapsed": false
   },
   "outputs": [
    {
     "name": "stdout",
     "output_type": "stream",
     "text": [
      "\n",
      "moi: [ 1733.02355957   557.65820312  1732.93225098]\n",
      "itensor: [[  1.73302319e+03   6.41541730e-04   1.02312282e-04]\n",
      " [  6.39679085e-04   5.57658203e+02   8.26553162e-03]\n",
      " [  1.03728089e-04   8.26367643e-03   1.73293176e+03]]\n",
      "availtorque: [ 5000.  5000.  5000.]\n",
      "\n"
     ]
    }
   ],
   "source": [
    "moi = np.array(vessel.moment_of_inertia)\n",
    "itensor = np.array(vessel.inertia_tensor).reshape(3,3)\n",
    "availtorque = np.array(vessel.available_torque)\n",
    "\n",
    "print('''\n",
    "moi: {moi}\n",
    "itensor: {itensor}\n",
    "availtorque: {availtorque}\n",
    "'''.format(moi=moi, itensor=itensor, availtorque=availtorque))"
   ]
  },
  {
   "cell_type": "markdown",
   "metadata": {},
   "source": [
    "Given a moment of intertia vector around (pitch, roll, yaw) in kg m^2 and an available torque vector around (pitch, roll, yaw) in N m or kg m^2 / s^2, I want to create a controller (presumably PID) in the range [-1,1] for each axis."
   ]
  },
  {
   "cell_type": "code",
   "execution_count": 29,
   "metadata": {
    "collapsed": false
   },
   "outputs": [
    {
     "name": "stdout",
     "output_type": "stream",
     "text": [
      "max accel: 2.88517022504 rad / s^2\n",
      "165.308077072 deg / s^2\n"
     ]
    }
   ],
   "source": [
    "moment_of_inertia = 1733\n",
    "max_torque = 5000\n",
    "control_range = np.array([-1,1])\n",
    "\n",
    "max_acceleration = max_torque * control_range[1] / moment_of_inertia\n",
    "print('max accel:',max_acceleration,'rad / s^2')\n",
    "print(max_acceleration*180/np.pi, 'deg / s^2')"
   ]
  },
  {
   "cell_type": "markdown",
   "metadata": {},
   "source": [
    "This is very fast. I only want a couple degrees per second^2 acceleration and not more than about 5 deg/sec rotation ever, so let's see what control range that represents:"
   ]
  },
  {
   "cell_type": "code",
   "execution_count": 30,
   "metadata": {
    "collapsed": false
   },
   "outputs": [
    {
     "name": "stdout",
     "output_type": "stream",
     "text": [
      "control range at 2 deg / s^2: 0.012098622374824692\n"
     ]
    }
   ],
   "source": [
    "print('control range at 2 deg / s^2:',(2*np.pi/180) * moment_of_inertia / max_torque)"
   ]
  },
  {
   "cell_type": "markdown",
   "metadata": {},
   "source": [
    "This might be a good limit on the control rate of change.\n",
    "\n",
    "The output would be for a device 2 deg from the set point at 2 deg/sec with zero windup:\n",
    "$$output = Kp * 2 + Kd * 2$$\n"
   ]
  }
 ],
 "metadata": {
  "kernelspec": {
   "display_name": "Python 3",
   "language": "python",
   "name": "python3"
  },
  "language_info": {
   "codemirror_mode": {
    "name": "ipython",
    "version": 3
   },
   "file_extension": ".py",
   "mimetype": "text/x-python",
   "name": "python",
   "nbconvert_exporter": "python",
   "pygments_lexer": "ipython3",
   "version": "3.4.3"
  }
 },
 "nbformat": 4,
 "nbformat_minor": 0
}
