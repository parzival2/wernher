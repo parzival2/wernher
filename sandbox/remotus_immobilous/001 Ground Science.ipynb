{
 "cells": [
  {
   "cell_type": "code",
   "execution_count": 1,
   "metadata": {
    "collapsed": true
   },
   "outputs": [],
   "source": [
    "import krpc\n",
    "\n",
    "linkup = krpc.connect('192.168.1.2', name='ground science')\n",
    "ksc = linkup.space_center\n",
    "ves = ksc.active_vessel"
   ]
  },
  {
   "cell_type": "code",
   "execution_count": 2,
   "metadata": {
    "collapsed": false
   },
   "outputs": [
    {
     "name": "stdout",
     "output_type": "stream",
     "text": [
      "Mk1 Command Pod mk1pod\n",
      "Mk16 Parachute parachuteSingle\n",
      "Communotron 16 longAntenna\n",
      "RT-5 \"Flea\" Solid Fuel Booster solidBooster.sm\n",
      "Basic Fin basicFin\n",
      "Basic Fin basicFin\n",
      "Basic Fin basicFin\n",
      "Mystery Goo™ Containment Unit GooExperiment\n",
      "Mystery Goo™ Containment Unit GooExperiment\n",
      "Mystery Goo™ Containment Unit GooExperiment\n"
     ]
    }
   ],
   "source": [
    "for p in ves.parts.all:\n",
    "    print(p.title,p.name)"
   ]
  },
  {
   "cell_type": "code",
   "execution_count": 3,
   "metadata": {
    "collapsed": true
   },
   "outputs": [],
   "source": [
    "experiments = {'goo' : ves.parts.with_name('GooExperiment')}\n",
    "capsule = ves.parts.with_name('mk1pod')[0]"
   ]
  },
  {
   "cell_type": "code",
   "execution_count": 30,
   "metadata": {
    "collapsed": false
   },
   "outputs": [
    {
     "name": "stdout",
     "output_type": "stream",
     "text": [
      "ModuleCommand []\n",
      "ModuleReactionWheel ['Activate', 'Deactivate', 'Toggle']\n",
      "ModuleScienceExperiment ['Crew Report', 'Discard Crew Report']\n",
      "ModuleScienceContainer []\n",
      "FlagDecal []\n",
      "ModuleConductionMultiplier []\n",
      "RasterPropMonitorComputer []\n",
      "ModuleTripLogger []\n",
      "TransferDialogSpawner []\n"
     ]
    }
   ],
   "source": [
    "for m in capsule.modules:\n",
    "    print(m.name,m.actions)"
   ]
  },
  {
   "cell_type": "code",
   "execution_count": 23,
   "metadata": {
    "collapsed": false
   },
   "outputs": [
    {
     "data": {
      "text/plain": [
       "[<SpaceCenter.Part remote object #5>]"
      ]
     },
     "execution_count": 23,
     "metadata": {},
     "output_type": "execute_result"
    }
   ],
   "source": [
    "def crew_report(capsule):\n",
    "    report_module = capsule.module[2]\n",
    "    report_action = report_module.actions[0]\n",
    "    report_module.trigger_event(report_action)"
   ]
  },
  {
   "cell_type": "code",
   "execution_count": 20,
   "metadata": {
    "collapsed": false
   },
   "outputs": [
    {
     "data": {
      "text/plain": [
       "'Observe Mystery Goo'"
      ]
     },
     "execution_count": 20,
     "metadata": {},
     "output_type": "execute_result"
    }
   ],
   "source": [
    "def observe_goo(goo_experiment):\n",
    "    goo_module = goo_experiment.modules[1]\n",
    "    observe_action = goo_module.actions[0]\n",
    "    goo_module.trigger_event(observe_action)"
   ]
  },
  {
   "cell_type": "code",
   "execution_count": null,
   "metadata": {
    "collapsed": true
   },
   "outputs": [],
   "source": [
    "observe_goo(experiments['goo'][0])"
   ]
  },
  {
   "cell_type": "code",
   "execution_count": null,
   "metadata": {
    "collapsed": true
   },
   "outputs": [],
   "source": [
    "crew_report(capsule)"
   ]
  },
  {
   "cell_type": "code",
   "execution_count": null,
   "metadata": {
    "collapsed": true
   },
   "outputs": [],
   "source": []
  }
 ],
 "metadata": {
  "kernelspec": {
   "display_name": "Python 3",
   "language": "python",
   "name": "python3"
  },
  "language_info": {
   "codemirror_mode": {
    "name": "ipython",
    "version": 3
   },
   "file_extension": ".py",
   "mimetype": "text/x-python",
   "name": "python",
   "nbconvert_exporter": "python",
   "pygments_lexer": "ipython3",
   "version": "3.4.3"
  }
 },
 "nbformat": 4,
 "nbformat_minor": 0
}
