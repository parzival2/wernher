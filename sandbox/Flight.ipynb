{
 "metadata": {
  "name": "",
  "signature": "sha256:1c08f6dbea209f2529be2891629e479bbb4df265d8190897ad996b1a32936f2b"
 },
 "nbformat": 3,
 "nbformat_minor": 0,
 "worksheets": [
  {
   "cells": [
    {
     "cell_type": "code",
     "collapsed": false,
     "input": [
      "%run -i '../Common.ipynb'\n",
      "import krpc\n",
      "import wernher"
     ],
     "language": "python",
     "metadata": {},
     "outputs": [],
     "prompt_number": 1
    },
    {
     "cell_type": "code",
     "collapsed": false,
     "input": [
      "con = krpc.connect(name='laptop0', address='192.168.1.2')\n",
      "ksc = con.space_center\n",
      "vessel = ksc.active_vessel"
     ],
     "language": "python",
     "metadata": {},
     "outputs": [],
     "prompt_number": 2
    },
    {
     "cell_type": "code",
     "collapsed": false,
     "input": [
      "vessel.flight(vessel.orbit.body.reference_frame).mean_altitude\n",
      "vessel.flight(vessel.reference_frame).roll"
     ],
     "language": "python",
     "metadata": {},
     "outputs": [
      {
       "metadata": {},
       "output_type": "pyout",
       "prompt_number": 3,
       "text": [
        "-90.0"
       ]
      }
     ],
     "prompt_number": 3
    },
    {
     "cell_type": "code",
     "collapsed": false,
     "input": [
      "\n",
      "def dot_product(x, y):\n",
      "    return x[0]*y[0] + x[1]*y[1] + x[2]*y[2]\n",
      "\n",
      "\n",
      "def magnitude(x):\n",
      "    return math.sqrt(x[0]**2 + x[1]**2 + x[2]**2)\n",
      "\n",
      "def angle_between_vectors(x, y):\n",
      "    \"\"\" Compute the angle between vector x and y \"\"\"\n",
      "    dp = dot_product(x, y)\n",
      "    if dp == 0:\n",
      "        return 0\n",
      "    xm = magnitude(x)\n",
      "    ym = magnitude(y)\n",
      "    return math.acos(dp / (xm*ym)) * (180. / math.pi)\n",
      "\n",
      "def vessel_pitch(vessel):\n",
      "    vessel_direction = vessel.direction(vessel.surface_reference_frame)\n",
      "\n",
      "    # Get the direction of the vessel in the horizon plane\n",
      "    horizon_direction = (0, vessel_direction[1], vessel_direction[2])\n",
      "\n",
      "    # Compute the pitch - the angle between the vessels direction and the direction in the horizon plane\n",
      "    pitch = angle_between_vectors(vessel_direction, horizon_direction)\n",
      "    if vessel_direction[0] < 0:\n",
      "        pitch = -pitch\n",
      "    return pitch"
     ],
     "language": "python",
     "metadata": {},
     "outputs": [],
     "prompt_number": 4
    },
    {
     "cell_type": "code",
     "collapsed": false,
     "input": [
      "cont_alt = wernher.Controller(set_point=5000,kp=1/3,t0=ksc.ut)\n",
      "cont_alt.min = -15\n",
      "cont_alt.max =  15\n",
      "cont_alt.ziegler_nichols(ku=1/3,tu=6,control_type='no_overshoot')\n",
      "\n",
      "cont_pitch = wernher.Controller(set_point=5,kp=1/30,t0=ksc.ut)\n",
      "cont_pitch.min = -1\n",
      "cont_pitch.max =  1\n",
      "cont_pitch.ziegler_nichols(ku=1/25,tu=1,control_type='no_overshoot')\n",
      "\n",
      "while True:\n",
      "    t = ksc.ut\n",
      "    flight = vessel.flight(vessel.orbit.body.reference_frame)\n",
      "    alt = flight.mean_altitude\n",
      "    pitch = vessel_pitch(vessel)\n",
      "    cont_pitch.set_point = cont_alt(alt,t)\n",
      "    vessel.control.pitch = cont_pitch(pitch,t)\n",
      "    time.sleep(0.1)"
     ],
     "language": "python",
     "metadata": {},
     "outputs": []
    },
    {
     "cell_type": "code",
     "collapsed": false,
     "input": [
      "con_alt = wernher.Controller(set_point=5000)\n",
      "con_alt.ziegler_nichols(ku=1/2000,tu=33)\n",
      "con_alt.min = -1\n",
      "con_alt.max =  1\n",
      "\n",
      "#con_pitch = wernher.Controller(set_point=0,kp=15)\n",
      "#con_pitch.min = -1\n",
      "#con_pitch.max =  1\n",
      "\n",
      "while True:\n",
      "    t = ksc.ut\n",
      "    flight = vessel.flight(vessel.orbit.body.reference_frame)\n",
      "    alt = flight.mean_altitude\n",
      "    #pitch = vessel_pitch(vessel)\n",
      "    #con_pitch.set_point = con_alt(alt,t)\n",
      "    vessel.control.pitch = con_alt(alt,t)\n",
      "    time.sleep(0.1)"
     ],
     "language": "python",
     "metadata": {},
     "outputs": []
    }
   ],
   "metadata": {}
  }
 ]
}