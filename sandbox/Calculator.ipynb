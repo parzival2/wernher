{
 "cells": [
  {
   "cell_type": "code",
   "execution_count": 1,
   "metadata": {
    "collapsed": false
   },
   "outputs": [],
   "source": [
    "%run -i '../Common.ipynb'"
   ]
  },
  {
   "cell_type": "code",
   "execution_count": 28,
   "metadata": {
    "collapsed": false
   },
   "outputs": [
    {
     "name": "stdout",
     "output_type": "stream",
     "text": [
      "r0 = 14000\n",
      "s0 = 5.3359\n",
      "vr0 = -2.6679\n",
      "a = 13999\n",
      "α = 7.143e-05\n",
      "\n",
      "vt0 = 4.6210\n",
      "h = 64693\n",
      "e = 0.5000\n",
      "aa = 13999\n",
      "αα = 7.143e-05\n",
      "\n"
     ]
    }
   ],
   "source": [
    "μ = 398600\n",
    "x0 = np.array([7000,-12124])\n",
    "v0 = np.array([2.6679,4.6210])\n",
    "r0 = np.sqrt(sum(r0**2))\n",
    "s0 = np.sqrt(sum(v0**2))\n",
    "vr0 = sum(x0 * v0) / r0\n",
    "a = 1 / ((2 / r0) - ((s0**2) / μ))\n",
    "α = 1 / a\n",
    "\n",
    "vt0 = np.sqrt(s0**2 - vr0**2)\n",
    "h = vt0 * r0\n",
    "e = np.sqrt(1 + (r0 * vt0**2 / μ) * ((r0 * s0**2 / μ) - 2))\n",
    "\n",
    "aa = h**2 / (μ * (1 - e**2))\n",
    "αα = 1 / aa\n",
    "\n",
    "print('''\\\n",
    "r0 = {r0:.0f}\n",
    "s0 = {s0:.4f}\n",
    "vr0 = {vr0:.4f}\n",
    "a = {a:.0f}\n",
    "α = {α:.4g}\n",
    "\n",
    "vt0 = {vt0:.4f}\n",
    "h = {h:.0f}\n",
    "e = {e:.4f}\n",
    "aa = {aa:.0f}\n",
    "αα = {αα:.4g}\n",
    "'''.format(\n",
    "    r0 = r0,s0 = s0,vr0 = vr0,a = a,α = α,vt0 = vt0,h = h,e = e,\n",
    "    aa = aa,αα = αα\n",
    "))"
   ]
  }
 ],
 "metadata": {
  "kernelspec": {
   "display_name": "Python 3",
   "language": "python",
   "name": "python3"
  },
  "language_info": {
   "codemirror_mode": {
    "name": "ipython",
    "version": 3
   },
   "file_extension": ".py",
   "mimetype": "text/x-python",
   "name": "python",
   "nbconvert_exporter": "python",
   "pygments_lexer": "ipython3",
   "version": "3.4.1"
  }
 },
 "nbformat": 4,
 "nbformat_minor": 0
}
